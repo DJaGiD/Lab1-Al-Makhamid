{
 "cells": [
  {
   "cell_type": "markdown",
   "id": "0cbbea1b",
   "metadata": {},
   "source": [
    "# Йорданія\n",
    "\n"
   ]
  },
  {
   "cell_type": "markdown",
   "id": "1d0d528a",
   "metadata": {},
   "source": [
    "<div></div>\n"
   ]
  },
  {
   "cell_type": "markdown",
   "id": "2e3590ee",
   "metadata": {},
   "source": [
    "## Загальна інформація про Йорданію\n"
   ]
  },
  {
   "cell_type": "markdown",
   "id": "9247b94e",
   "metadata": {},
   "source": [
    "<span style=\"color:red\">\n",
    "Площина - 89 342 км²\n",
    "\n",
    "</span>"
   ]
  },
  {
   "cell_type": "markdown",
   "id": "8380fedc",
   "metadata": {},
   "source": [
    "<span style=\"color:blue\">\n",
    "Населення - 11,15 миллионів\n",
    "\n",
    "</span>"
   ]
  },
  {
   "cell_type": "markdown",
   "id": "dd95eb80",
   "metadata": {},
   "source": [
    "# Державний устрій Йорданії\n"
   ]
  },
  {
   "cell_type": "markdown",
   "id": "f70c6057",
   "metadata": {},
   "source": [
    "<div style=\"border:black;border-width:2px;border-style:solid\">\n",
    "Форма правління: конституційна монархія.\n",
    "Глава держави: Король Абдалла ІІ (з лютого 1999 року).\n",
    "Законодавча влада: двопалатний парламент (Народні збори) який складається із Верхньої палати (Сенат або Палата знатних) та Нижньої палати (Палата представників). Сенат налічує 60 депутатів, які призначаються особисто Королем на чотирирічний термін. Нижня палата (120 осіб) обирається населенням країни на основі загального виборчого права на 4-річний період.\n",
    "</div>"
   ]
  },
  {
   "cell_type": "markdown",
   "id": "e1abaf4c",
   "metadata": {},
   "source": [
    "\n",
    "## Культура і видатні діячи Йорданії"
   ]
  },
  {
   "cell_type": "markdown",
   "id": "f1b0b1b3",
   "metadata": {},
   "source": [
    "<li>Архітектурні пам'ятки Йорданії\n",
    "    <ul>\n",
    "        <li><a href=\"https://uk.wikipedia.org/wiki/Петра\"> Петра </a></li>\n",
    "    </ul>\n",
    "</li>\n"
   ]
  },
  {
   "cell_type": "markdown",
   "id": "b8b2ec7b",
   "metadata": {},
   "source": [
    "## Видатні діячи Йорданії\n"
   ]
  },
  {
   "cell_type": "markdown",
   "id": "08f38696",
   "metadata": {},
   "source": [
    "<table width=\"350\" border=\"1\">\n",
    "  <tr>\n",
    "    <th>Діяч</th>\n",
    "    <th>Фотографія</th>\n",
    "     <th>Опис</th></tr><tr>\n",
    "    <td>Абдалла II ибн Хусейн аль-Хашими</td>\n",
    "    <td><img src=\"Абдалла II ибн Хусейн аль-Хашими.jpeg\"></td>\n",
    "    <td> Абдалла II ибн Хусейн аль-Хашими, также Абдалла́ II (араб. عبد الله الثاني بن الحسين; род. 30 января 1962 года в Аммане, Иордания) — король Иордании с 1999 года, сын короля Хусейна ибн Талала. В 1993—1996 годах — командующий иорданскими Специальными вооружёнными силами, с 1996 по 1999 год — глава Командования специальных операций иорданских Вооружённых сил. Фельдмаршал Вооружённых сил Иордании, маршал Королевских Иорданских ВВС. </td>  \n",
    "</tr>\n",
    "<tr>\n",
    "<td>Мохаммед Малхас</td>\n",
    "<td><img src=\"600px-BOROS.jpeg\"></td>\n",
    "<td>Мохаммед Малхас -Кібер спортсмен,що виступав за українську кібер-спортивну огранізацію <a href=\"https://liquipedia.net/counterstrike/Monte\"> Монте</a>,дійщовши до півфіналу разом з нашими спів вітчизниками .\n",
    "</td>\n",
    "</tr>\n",
    "</table>"
   ]
  },
  {
   "cell_type": "markdown",
   "id": "5d802884",
   "metadata": {},
   "source": [
    "## Природа Йорданії"
   ]
  },
  {
   "cell_type": "markdown",
   "id": "9621fd19",
   "metadata": {},
   "source": [
    "<img src=\"wadi-rum-desert_optimized.jpg\">"
   ]
  },
  {
   "cell_type": "markdown",
   "id": "3fe9644c",
   "metadata": {},
   "source": [
    "<img src=\"51535-iordaniya-puteshestvuem-s-umom.jpg\">"
   ]
  },
  {
   "cell_type": "markdown",
   "id": "e4dfa55a",
   "metadata": {},
   "source": [
    "## Прапор Йорданії"
   ]
  },
  {
   "cell_type": "markdown",
   "id": "166d3ea8",
   "metadata": {},
   "source": [
    "<img src=\"Flag_of_Jordan.svg\">"
   ]
  },
  {
   "cell_type": "code",
   "execution_count": null,
   "id": "33f7a314",
   "metadata": {},
   "outputs": [],
   "source": []
  },
  {
   "cell_type": "code",
   "execution_count": null,
   "id": "aab15613",
   "metadata": {},
   "outputs": [],
   "source": []
  },
  {
   "cell_type": "code",
   "execution_count": null,
   "id": "d0638621",
   "metadata": {},
   "outputs": [],
   "source": []
  },
  {
   "cell_type": "code",
   "execution_count": null,
   "id": "dbfee04c",
   "metadata": {},
   "outputs": [],
   "source": []
  }
 ],
 "metadata": {
  "kernelspec": {
   "display_name": "Python 3 (ipykernel)",
   "language": "python",
   "name": "python3"
  },
  "language_info": {
   "codemirror_mode": {
    "name": "ipython",
    "version": 3
   },
   "file_extension": ".py",
   "mimetype": "text/x-python",
   "name": "python",
   "nbconvert_exporter": "python",
   "pygments_lexer": "ipython3",
   "version": "3.11.4"
  }
 },
 "nbformat": 4,
 "nbformat_minor": 5
}
